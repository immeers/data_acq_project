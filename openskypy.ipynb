{
 "cells": [
  {
   "cell_type": "code",
   "execution_count": 3,
   "metadata": {},
   "outputs": [
    {
     "name": "stdout",
     "output_type": "stream",
     "text": [
      "Requirement already satisfied: pyopensky in c:\\users\\immim\\anaconda3\\lib\\site-packages (2.9)\n",
      "Requirement already satisfied: appdirs>=1.4.4 in c:\\users\\immim\\anaconda3\\lib\\site-packages (from pyopensky) (1.4.4)\n",
      "Requirement already satisfied: httpx>=0.27.2 in c:\\users\\immim\\anaconda3\\lib\\site-packages (from pyopensky) (0.27.2)\n",
      "Requirement already satisfied: minio>=7.2.8 in c:\\users\\immim\\anaconda3\\lib\\site-packages (from pyopensky) (7.2.8)\n",
      "Requirement already satisfied: pandas>=2.2.2 in c:\\users\\immim\\anaconda3\\lib\\site-packages (from pyopensky) (2.2.2)\n",
      "Requirement already satisfied: pyarrow>=17.0.0 in c:\\users\\immim\\anaconda3\\lib\\site-packages (from pyopensky) (17.0.0)\n",
      "Requirement already satisfied: pyjwt>=2.9.0 in c:\\users\\immim\\anaconda3\\lib\\site-packages (from pyopensky) (2.9.0)\n",
      "Requirement already satisfied: tqdm>=4.66.5 in c:\\users\\immim\\anaconda3\\lib\\site-packages (from pyopensky) (4.66.5)\n",
      "Requirement already satisfied: trino>=0.329.0 in c:\\users\\immim\\anaconda3\\lib\\site-packages (from trino[sqlalchemy]>=0.329.0->pyopensky) (0.329.0)\n",
      "Requirement already satisfied: typing-extensions>=4.12.2 in c:\\users\\immim\\anaconda3\\lib\\site-packages (from pyopensky) (4.12.2)\n",
      "Requirement already satisfied: anyio in c:\\users\\immim\\anaconda3\\lib\\site-packages (from httpx>=0.27.2->pyopensky) (4.2.0)\n",
      "Requirement already satisfied: certifi in c:\\users\\immim\\anaconda3\\lib\\site-packages (from httpx>=0.27.2->pyopensky) (2024.6.2)\n",
      "Requirement already satisfied: httpcore==1.* in c:\\users\\immim\\anaconda3\\lib\\site-packages (from httpx>=0.27.2->pyopensky) (1.0.2)\n",
      "Requirement already satisfied: idna in c:\\users\\immim\\anaconda3\\lib\\site-packages (from httpx>=0.27.2->pyopensky) (3.4)\n",
      "Requirement already satisfied: sniffio in c:\\users\\immim\\anaconda3\\lib\\site-packages (from httpx>=0.27.2->pyopensky) (1.3.0)\n",
      "Requirement already satisfied: h11<0.15,>=0.13 in c:\\users\\immim\\anaconda3\\lib\\site-packages (from httpcore==1.*->httpx>=0.27.2->pyopensky) (0.14.0)\n",
      "Requirement already satisfied: urllib3 in c:\\users\\immim\\anaconda3\\lib\\site-packages (from minio>=7.2.8->pyopensky) (2.0.7)\n",
      "Requirement already satisfied: argon2-cffi in c:\\users\\immim\\anaconda3\\lib\\site-packages (from minio>=7.2.8->pyopensky) (21.3.0)\n",
      "Requirement already satisfied: pycryptodome in c:\\users\\immim\\anaconda3\\lib\\site-packages (from minio>=7.2.8->pyopensky) (3.20.0)\n",
      "Requirement already satisfied: numpy>=1.23.2 in c:\\users\\immim\\anaconda3\\lib\\site-packages (from pandas>=2.2.2->pyopensky) (1.26.4)\n",
      "Requirement already satisfied: python-dateutil>=2.8.2 in c:\\users\\immim\\anaconda3\\lib\\site-packages (from pandas>=2.2.2->pyopensky) (2.8.2)\n",
      "Requirement already satisfied: pytz>=2020.1 in c:\\users\\immim\\anaconda3\\lib\\site-packages (from pandas>=2.2.2->pyopensky) (2023.3.post1)\n",
      "Requirement already satisfied: tzdata>=2022.7 in c:\\users\\immim\\anaconda3\\lib\\site-packages (from pandas>=2.2.2->pyopensky) (2023.3)\n",
      "Requirement already satisfied: colorama in c:\\users\\immim\\anaconda3\\lib\\site-packages (from tqdm>=4.66.5->pyopensky) (0.4.6)\n",
      "Requirement already satisfied: requests>=2.31.0 in c:\\users\\immim\\anaconda3\\lib\\site-packages (from trino>=0.329.0->trino[sqlalchemy]>=0.329.0->pyopensky) (2.31.0)\n",
      "Requirement already satisfied: tzlocal in c:\\users\\immim\\anaconda3\\lib\\site-packages (from trino>=0.329.0->trino[sqlalchemy]>=0.329.0->pyopensky) (2.1)\n",
      "Requirement already satisfied: sqlalchemy>=1.3 in c:\\users\\immim\\anaconda3\\lib\\site-packages (from trino[sqlalchemy]>=0.329.0->pyopensky) (2.0.25)\n",
      "Requirement already satisfied: six>=1.5 in c:\\users\\immim\\anaconda3\\lib\\site-packages (from python-dateutil>=2.8.2->pandas>=2.2.2->pyopensky) (1.16.0)\n",
      "Requirement already satisfied: charset-normalizer<4,>=2 in c:\\users\\immim\\anaconda3\\lib\\site-packages (from requests>=2.31.0->trino>=0.329.0->trino[sqlalchemy]>=0.329.0->pyopensky) (2.0.4)\n",
      "Requirement already satisfied: greenlet!=0.4.17 in c:\\users\\immim\\anaconda3\\lib\\site-packages (from sqlalchemy>=1.3->trino[sqlalchemy]>=0.329.0->pyopensky) (3.0.1)\n",
      "Requirement already satisfied: argon2-cffi-bindings in c:\\users\\immim\\anaconda3\\lib\\site-packages (from argon2-cffi->minio>=7.2.8->pyopensky) (21.2.0)\n",
      "Requirement already satisfied: cffi>=1.0.1 in c:\\users\\immim\\anaconda3\\lib\\site-packages (from argon2-cffi-bindings->argon2-cffi->minio>=7.2.8->pyopensky) (1.16.0)\n",
      "Requirement already satisfied: pycparser in c:\\users\\immim\\anaconda3\\lib\\site-packages (from cffi>=1.0.1->argon2-cffi-bindings->argon2-cffi->minio>=7.2.8->pyopensky) (2.21)\n",
      "Note: you may need to restart the kernel to use updated packages.\n"
     ]
    }
   ],
   "source": [
    "%pip install pyopensky"
   ]
  },
  {
   "cell_type": "code",
   "execution_count": 5,
   "metadata": {},
   "outputs": [
    {
     "name": "stdout",
     "output_type": "stream",
     "text": [
      "C:\\Users\\immim\\AppData\\Local\\pyopensky\\pyopensky\n"
     ]
    }
   ],
   "source": [
    "from pyopensky.config import opensky_config_dir\n",
    "\n",
    "print(opensky_config_dir)\n"
   ]
  },
  {
   "cell_type": "code",
   "execution_count": 6,
   "metadata": {},
   "outputs": [
    {
     "ename": "ImportError",
     "evalue": "cannot import name 'get_localzone_name' from 'tzlocal' (c:\\Users\\immim\\anaconda3\\Lib\\site-packages\\tzlocal\\__init__.py)",
     "output_type": "error",
     "traceback": [
      "\u001b[1;31m---------------------------------------------------------------------------\u001b[0m",
      "\u001b[1;31mImportError\u001b[0m                               Traceback (most recent call last)",
      "Cell \u001b[1;32mIn[6], line 1\u001b[0m\n\u001b[1;32m----> 1\u001b[0m \u001b[38;5;28;01mfrom\u001b[39;00m \u001b[38;5;21;01mpyopensky\u001b[39;00m\u001b[38;5;21;01m.\u001b[39;00m\u001b[38;5;21;01mtrino\u001b[39;00m \u001b[38;5;28;01mimport\u001b[39;00m Trino\n\u001b[0;32m      3\u001b[0m trino \u001b[38;5;241m=\u001b[39m Trino()\n\u001b[0;32m      4\u001b[0m \u001b[38;5;66;03m# full description of the whole set of parameters in the documentation\u001b[39;00m\n",
      "File \u001b[1;32mc:\\Users\\immim\\anaconda3\\Lib\\site-packages\\pyopensky\\trino.py:29\u001b[0m\n\u001b[0;32m     27\u001b[0m \u001b[38;5;28;01mfrom\u001b[39;00m \u001b[38;5;21;01msqlalchemy\u001b[39;00m\u001b[38;5;21;01m.\u001b[39;00m\u001b[38;5;21;01msql\u001b[39;00m\u001b[38;5;21;01m.\u001b[39;00m\u001b[38;5;21;01mexpression\u001b[39;00m \u001b[38;5;28;01mimport\u001b[39;00m text\n\u001b[0;32m     28\u001b[0m \u001b[38;5;28;01mfrom\u001b[39;00m \u001b[38;5;21;01mtqdm\u001b[39;00m \u001b[38;5;28;01mimport\u001b[39;00m tqdm\n\u001b[1;32m---> 29\u001b[0m \u001b[38;5;28;01mfrom\u001b[39;00m \u001b[38;5;21;01mtrino\u001b[39;00m\u001b[38;5;21;01m.\u001b[39;00m\u001b[38;5;21;01mauth\u001b[39;00m \u001b[38;5;28;01mimport\u001b[39;00m JWTAuthentication, OAuth2Authentication\n\u001b[0;32m     30\u001b[0m \u001b[38;5;28;01mfrom\u001b[39;00m \u001b[38;5;21;01mtrino\u001b[39;00m\u001b[38;5;21;01m.\u001b[39;00m\u001b[38;5;21;01mexceptions\u001b[39;00m \u001b[38;5;28;01mimport\u001b[39;00m TrinoQueryError\n\u001b[0;32m     31\u001b[0m \u001b[38;5;28;01mfrom\u001b[39;00m \u001b[38;5;21;01mtrino\u001b[39;00m\u001b[38;5;21;01m.\u001b[39;00m\u001b[38;5;21;01msqlalchemy\u001b[39;00m \u001b[38;5;28;01mimport\u001b[39;00m URL\n",
      "File \u001b[1;32mc:\\Users\\immim\\anaconda3\\Lib\\site-packages\\trino\\__init__.py:13\u001b[0m\n\u001b[0;32m      1\u001b[0m \u001b[38;5;66;03m# Licensed under the Apache License, Version 2.0 (the \"License\");\u001b[39;00m\n\u001b[0;32m      2\u001b[0m \u001b[38;5;66;03m# you may not use this file except in compliance with the License.\u001b[39;00m\n\u001b[0;32m      3\u001b[0m \u001b[38;5;66;03m# You may obtain a copy of the License at\u001b[39;00m\n\u001b[1;32m   (...)\u001b[0m\n\u001b[0;32m     10\u001b[0m \u001b[38;5;66;03m# See the License for the specific language governing permissions and\u001b[39;00m\n\u001b[0;32m     11\u001b[0m \u001b[38;5;66;03m# limitations under the License.\u001b[39;00m\n\u001b[1;32m---> 13\u001b[0m \u001b[38;5;28;01mfrom\u001b[39;00m \u001b[38;5;21;01m.\u001b[39;00m \u001b[38;5;28;01mimport\u001b[39;00m auth, client, constants, dbapi, exceptions, logging\n\u001b[0;32m     14\u001b[0m \u001b[38;5;28;01mfrom\u001b[39;00m \u001b[38;5;21;01m.\u001b[39;00m\u001b[38;5;21;01m_version\u001b[39;00m \u001b[38;5;28;01mimport\u001b[39;00m (\n\u001b[0;32m     15\u001b[0m     __author__,\n\u001b[0;32m     16\u001b[0m     __author_email__,\n\u001b[1;32m   (...)\u001b[0m\n\u001b[0;32m     21\u001b[0m     __version__,\n\u001b[0;32m     22\u001b[0m )\n\u001b[0;32m     24\u001b[0m __all__ \u001b[38;5;241m=\u001b[39m [\n\u001b[0;32m     25\u001b[0m     \u001b[38;5;124m\"\u001b[39m\u001b[38;5;124mauth\u001b[39m\u001b[38;5;124m\"\u001b[39m,\n\u001b[0;32m     26\u001b[0m     \u001b[38;5;124m\"\u001b[39m\u001b[38;5;124mclient\u001b[39m\u001b[38;5;124m\"\u001b[39m,\n\u001b[1;32m   (...)\u001b[0m\n\u001b[0;32m     37\u001b[0m     \u001b[38;5;124m\"\u001b[39m\u001b[38;5;124m__version__\u001b[39m\u001b[38;5;124m\"\u001b[39m,\n\u001b[0;32m     38\u001b[0m ]\n",
      "File \u001b[1;32mc:\\Users\\immim\\anaconda3\\Lib\\site-packages\\trino\\auth.py:27\u001b[0m\n\u001b[0;32m     24\u001b[0m \u001b[38;5;28;01mfrom\u001b[39;00m \u001b[38;5;21;01mrequests\u001b[39;00m\u001b[38;5;21;01m.\u001b[39;00m\u001b[38;5;21;01mauth\u001b[39;00m \u001b[38;5;28;01mimport\u001b[39;00m AuthBase, extract_cookies_to_jar\n\u001b[0;32m     26\u001b[0m \u001b[38;5;28;01mimport\u001b[39;00m \u001b[38;5;21;01mtrino\u001b[39;00m\u001b[38;5;21;01m.\u001b[39;00m\u001b[38;5;21;01mlogging\u001b[39;00m\n\u001b[1;32m---> 27\u001b[0m \u001b[38;5;28;01mfrom\u001b[39;00m \u001b[38;5;21;01mtrino\u001b[39;00m\u001b[38;5;21;01m.\u001b[39;00m\u001b[38;5;21;01mclient\u001b[39;00m \u001b[38;5;28;01mimport\u001b[39;00m exceptions\n\u001b[0;32m     28\u001b[0m \u001b[38;5;28;01mfrom\u001b[39;00m \u001b[38;5;21;01mtrino\u001b[39;00m\u001b[38;5;21;01m.\u001b[39;00m\u001b[38;5;21;01mconstants\u001b[39;00m \u001b[38;5;28;01mimport\u001b[39;00m HEADER_USER\n\u001b[0;32m     30\u001b[0m logger \u001b[38;5;241m=\u001b[39m trino\u001b[38;5;241m.\u001b[39mlogging\u001b[38;5;241m.\u001b[39mget_logger(\u001b[38;5;18m__name__\u001b[39m)\n",
      "File \u001b[1;32mc:\\Users\\immim\\anaconda3\\Lib\\site-packages\\trino\\client.py:57\u001b[0m\n\u001b[0;32m     54\u001b[0m     \u001b[38;5;28;01mfrom\u001b[39;00m \u001b[38;5;21;01mbackports\u001b[39;00m\u001b[38;5;21;01m.\u001b[39;00m\u001b[38;5;21;01mzoneinfo\u001b[39;00m \u001b[38;5;28;01mimport\u001b[39;00m ZoneInfo\n\u001b[0;32m     56\u001b[0m \u001b[38;5;28;01mimport\u001b[39;00m \u001b[38;5;21;01mrequests\u001b[39;00m\n\u001b[1;32m---> 57\u001b[0m \u001b[38;5;28;01mfrom\u001b[39;00m \u001b[38;5;21;01mtzlocal\u001b[39;00m \u001b[38;5;28;01mimport\u001b[39;00m get_localzone_name  \u001b[38;5;66;03m# type: ignore\u001b[39;00m\n\u001b[0;32m     59\u001b[0m \u001b[38;5;28;01mimport\u001b[39;00m \u001b[38;5;21;01mtrino\u001b[39;00m\u001b[38;5;21;01m.\u001b[39;00m\u001b[38;5;21;01mlogging\u001b[39;00m\n\u001b[0;32m     60\u001b[0m \u001b[38;5;28;01mfrom\u001b[39;00m \u001b[38;5;21;01mtrino\u001b[39;00m \u001b[38;5;28;01mimport\u001b[39;00m constants, exceptions\n",
      "\u001b[1;31mImportError\u001b[0m: cannot import name 'get_localzone_name' from 'tzlocal' (c:\\Users\\immim\\anaconda3\\Lib\\site-packages\\tzlocal\\__init__.py)"
     ]
    }
   ],
   "source": [
    "from pyopensky.trino import Trino\n",
    "\n",
    "trino = Trino()\n",
    "# full description of the whole set of parameters in the documentation\n",
    "trino.flightlist(start, stop, airport, callsign, icao24)\n",
    "trino.history(start, stop, callsign, icao24, bounds)\n",
    "trino.rawdata(start, stop, callsign, icao24, bounds)"
   ]
  }
 ],
 "metadata": {
  "kernelspec": {
   "display_name": "base",
   "language": "python",
   "name": "python3"
  },
  "language_info": {
   "codemirror_mode": {
    "name": "ipython",
    "version": 3
   },
   "file_extension": ".py",
   "mimetype": "text/x-python",
   "name": "python",
   "nbconvert_exporter": "python",
   "pygments_lexer": "ipython3",
   "version": "3.11.7"
  }
 },
 "nbformat": 4,
 "nbformat_minor": 2
}
